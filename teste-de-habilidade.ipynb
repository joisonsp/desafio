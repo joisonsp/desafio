{
 "cells": [
  {
   "cell_type": "markdown",
   "metadata": {},
   "source": [
    "# Web Scraping"
   ]
  },
  {
   "cell_type": "code",
   "execution_count": 1,
   "metadata": {},
   "outputs": [],
   "source": [
    "import requests \n",
    "from bs4 import BeautifulSoup \n",
    "import zipfile"
   ]
  },
  {
   "cell_type": "code",
   "execution_count": 2,
   "metadata": {},
   "outputs": [],
   "source": [
    "url = 'https://www.gov.br/ans/pt-br/assuntos/prestadores/padrao-para-troca-de-informacao-de-saude-suplementar-2013-tiss'\n",
    "\n",
    "response = requests.get(url) \n",
    "soup = BeautifulSoup(response.text, 'html.parser') \n"
   ]
  },
  {
   "cell_type": "code",
   "execution_count": 3,
   "metadata": {},
   "outputs": [
    {
     "name": "stdout",
     "output_type": "stream",
     "text": [
      "<a class=\"alert-link internal-link\" data-tippreview-enabled=\"true\" data-tippreview-image=\"\" data-tippreview-title=\"\" href=\"https://www.gov.br/ans/pt-br/assuntos/prestadores/padrao-para-troca-de-informacao-de-saude-suplementar-2013-tiss/padrao-tiss-2013-novembro-2021\" target=\"_self\" title=\"\">Clique aqui para acessar a versão Novembro/2021</a>\n"
     ]
    }
   ],
   "source": [
    "links = soup.find_all('a', class_='alert-link internal-link')\n",
    "print(links[0])"
   ]
  },
  {
   "cell_type": "code",
   "execution_count": 4,
   "metadata": {},
   "outputs": [
    {
     "name": "stdout",
     "output_type": "stream",
     "text": [
      "<class 'bs4.element.Tag'>\n"
     ]
    }
   ],
   "source": [
    "link = requests.get(links[0].get('href')) \n",
    "print(type(links[0]))\n"
   ]
  },
  {
   "cell_type": "code",
   "execution_count": 5,
   "metadata": {},
   "outputs": [],
   "source": [
    "url = \"https://www.gov.br/ans/pt-br/assuntos/prestadores/padrao-para-troca-de-informacao-de-saude-suplementar-2013-tiss/padrao-tiss-2013-novembro-2021\"\n",
    "response = requests.get(url) \n",
    "soup = BeautifulSoup(response.text, 'html.parser') \n"
   ]
  },
  {
   "cell_type": "code",
   "execution_count": 6,
   "metadata": {},
   "outputs": [],
   "source": [
    "links = soup.find_all('a', class_=\"btn btn-primary btn-sm center-block internal-link\") "
   ]
  },
  {
   "cell_type": "code",
   "execution_count": 7,
   "metadata": {},
   "outputs": [],
   "source": [
    "for link in links:\n",
    "    if ('padrao-tiss_componente-organizacional' in link.get('href', [])): \n",
    "        response = requests.get(link.get('href')) \n",
    "        pdf = open(\"padrao-tiss_componente-organizacional\"+\".pdf\", 'wb') \n",
    "        pdf.write(response.content) \n",
    "        pdf.close() "
   ]
  },
  {
   "cell_type": "markdown",
   "metadata": {},
   "source": [
    "# Transformando Dados"
   ]
  },
  {
   "cell_type": "code",
   "execution_count": 8,
   "metadata": {},
   "outputs": [],
   "source": [
    "#importando bibliotecas\n",
    "from tabula import read_pdf\n",
    "import pandas as pd\n",
    "import numpy as np\n",
    "\n"
   ]
  },
  {
   "cell_type": "code",
   "execution_count": 9,
   "metadata": {},
   "outputs": [],
   "source": [
    "z = zipfile.ZipFile('Teste_{Joison}.zip', 'w', zipfile.ZIP_DEFLATED)"
   ]
  },
  {
   "cell_type": "code",
   "execution_count": 10,
   "metadata": {},
   "outputs": [
    {
     "name": "stderr",
     "output_type": "stream",
     "text": [
      "Got stderr: dez 14, 2021 7:09:23 PM org.apache.pdfbox.pdmodel.font.PDTrueTypeFont <init>\r\n",
      "ADVERTÊNCIA: Using fallback font 'Arial-BoldMT' for 'Helvetica,Bold'\r\n",
      "dez 14, 2021 7:09:25 PM org.apache.pdfbox.pdmodel.font.PDTrueTypeFont <init>\r\n",
      "ADVERTÊNCIA: Using fallback font 'Arial-BoldMT' for 'Helvetica,Bold'\r\n",
      "\n"
     ]
    },
    {
     "data": {
      "text/html": [
       "<div>\n",
       "<style scoped>\n",
       "    .dataframe tbody tr th:only-of-type {\n",
       "        vertical-align: middle;\n",
       "    }\n",
       "\n",
       "    .dataframe tbody tr th {\n",
       "        vertical-align: top;\n",
       "    }\n",
       "\n",
       "    .dataframe thead th {\n",
       "        text-align: right;\n",
       "    }\n",
       "</style>\n",
       "<table border=\"1\" class=\"dataframe\">\n",
       "  <thead>\n",
       "    <tr style=\"text-align: right;\">\n",
       "      <th></th>\n",
       "      <th>Tabela de Tipo do Demandante</th>\n",
       "    </tr>\n",
       "  </thead>\n",
       "  <tbody>\n",
       "    <tr>\n",
       "      <th>0</th>\n",
       "      <td>Código Descrição da categoria</td>\n",
       "    </tr>\n",
       "    <tr>\n",
       "      <th>1</th>\n",
       "      <td>1 Operadora</td>\n",
       "    </tr>\n",
       "    <tr>\n",
       "      <th>2</th>\n",
       "      <td>2 Prestador de serviço</td>\n",
       "    </tr>\n",
       "    <tr>\n",
       "      <th>3</th>\n",
       "      <td>3 Consumidor</td>\n",
       "    </tr>\n",
       "    <tr>\n",
       "      <th>4</th>\n",
       "      <td>4 Gestor</td>\n",
       "    </tr>\n",
       "    <tr>\n",
       "      <th>5</th>\n",
       "      <td>5 ANS</td>\n",
       "    </tr>\n",
       "  </tbody>\n",
       "</table>\n",
       "</div>"
      ],
      "text/plain": [
       "    Tabela de Tipo do Demandante\n",
       "0  Código Descrição da categoria\n",
       "1                    1 Operadora\n",
       "2         2 Prestador de serviço\n",
       "3                   3 Consumidor\n",
       "4                       4 Gestor\n",
       "5                          5 ANS"
      ]
     },
     "execution_count": 10,
     "metadata": {},
     "output_type": "execute_result"
    }
   ],
   "source": [
    "#lendo as tabelas\n",
    "read30 = read_pdf(\"padrao-tiss_componente-organizacional.pdf\",pages = '114')\n",
    "read30 = read30[0]\n",
    "read30"
   ]
  },
  {
   "cell_type": "code",
   "execution_count": 11,
   "metadata": {},
   "outputs": [
    {
     "name": "stderr",
     "output_type": "stream",
     "text": [
      "Got stderr: dez 14, 2021 7:09:27 PM org.apache.pdfbox.pdmodel.font.PDTrueTypeFont <init>\r\n",
      "ADVERTÊNCIA: Using fallback font 'Arial-BoldMT' for 'Helvetica,Bold'\r\n",
      "dez 14, 2021 7:09:28 PM org.apache.pdfbox.pdmodel.font.PDTrueTypeFont <init>\r\n",
      "ADVERTÊNCIA: Using fallback font 'Arial-BoldMT' for 'Helvetica,Bold'\r\n",
      "\n"
     ]
    },
    {
     "data": {
      "text/html": [
       "<div>\n",
       "<style scoped>\n",
       "    .dataframe tbody tr th:only-of-type {\n",
       "        vertical-align: middle;\n",
       "    }\n",
       "\n",
       "    .dataframe tbody tr th {\n",
       "        vertical-align: top;\n",
       "    }\n",
       "\n",
       "    .dataframe thead th {\n",
       "        text-align: right;\n",
       "    }\n",
       "</style>\n",
       "<table border=\"1\" class=\"dataframe\">\n",
       "  <thead>\n",
       "    <tr style=\"text-align: right;\">\n",
       "      <th></th>\n",
       "      <th>Unnamed: 0</th>\n",
       "      <th>Tabela de Categoria do Padrão TISS</th>\n",
       "    </tr>\n",
       "  </thead>\n",
       "  <tbody>\n",
       "    <tr>\n",
       "      <th>0</th>\n",
       "      <td>Código</td>\n",
       "      <td>Descrição da categoria</td>\n",
       "    </tr>\n",
       "    <tr>\n",
       "      <th>1</th>\n",
       "      <td>1</td>\n",
       "      <td>Componente Organizacional</td>\n",
       "    </tr>\n",
       "    <tr>\n",
       "      <th>2</th>\n",
       "      <td>2</td>\n",
       "      <td>Componente de Conteúdo e Estrutura</td>\n",
       "    </tr>\n",
       "    <tr>\n",
       "      <th>3</th>\n",
       "      <td>3</td>\n",
       "      <td>Componente de Representação de Conceitos em Saúde</td>\n",
       "    </tr>\n",
       "    <tr>\n",
       "      <th>4</th>\n",
       "      <td>4</td>\n",
       "      <td>Componente de Comunicação</td>\n",
       "    </tr>\n",
       "    <tr>\n",
       "      <th>5</th>\n",
       "      <td>5</td>\n",
       "      <td>Componente de Segurança e Privacidade</td>\n",
       "    </tr>\n",
       "    <tr>\n",
       "      <th>6</th>\n",
       "      <td>18</td>\n",
       "      <td>Terminologia de diárias, taxas e gases medicinais</td>\n",
       "    </tr>\n",
       "    <tr>\n",
       "      <th>7</th>\n",
       "      <td>19</td>\n",
       "      <td>Terminologia de materiais e OPME</td>\n",
       "    </tr>\n",
       "    <tr>\n",
       "      <th>8</th>\n",
       "      <td>20</td>\n",
       "      <td>Terminologia de medicamentos</td>\n",
       "    </tr>\n",
       "    <tr>\n",
       "      <th>9</th>\n",
       "      <td>22</td>\n",
       "      <td>Terminologia de procedimentos e eventos em saúde</td>\n",
       "    </tr>\n",
       "    <tr>\n",
       "      <th>10</th>\n",
       "      <td>23</td>\n",
       "      <td>Terminologia de caráter do atendimento</td>\n",
       "    </tr>\n",
       "    <tr>\n",
       "      <th>11</th>\n",
       "      <td>24</td>\n",
       "      <td>Terminologia de Classificação Brasileira de Oc...</td>\n",
       "    </tr>\n",
       "    <tr>\n",
       "      <th>12</th>\n",
       "      <td>25</td>\n",
       "      <td>Terminologia de código da despesa</td>\n",
       "    </tr>\n",
       "    <tr>\n",
       "      <th>13</th>\n",
       "      <td>26</td>\n",
       "      <td>Terminologia de conselho profissional</td>\n",
       "    </tr>\n",
       "    <tr>\n",
       "      <th>14</th>\n",
       "      <td>27</td>\n",
       "      <td>Terminologia de débitos e créditos</td>\n",
       "    </tr>\n",
       "    <tr>\n",
       "      <th>15</th>\n",
       "      <td>28</td>\n",
       "      <td>Terminologia de dentes</td>\n",
       "    </tr>\n",
       "    <tr>\n",
       "      <th>16</th>\n",
       "      <td>29</td>\n",
       "      <td>Terminologia de diagnóstico por imagem</td>\n",
       "    </tr>\n",
       "    <tr>\n",
       "      <th>17</th>\n",
       "      <td>30</td>\n",
       "      <td>Terminologia de Escala de capacidade funcional...</td>\n",
       "    </tr>\n",
       "    <tr>\n",
       "      <th>18</th>\n",
       "      <td>31</td>\n",
       "      <td>Terminologia de estadiamento do tumor</td>\n",
       "    </tr>\n",
       "    <tr>\n",
       "      <th>19</th>\n",
       "      <td>32</td>\n",
       "      <td>Terminologia de faces do dente</td>\n",
       "    </tr>\n",
       "    <tr>\n",
       "      <th>20</th>\n",
       "      <td>33</td>\n",
       "      <td>Terminologia de finalidade do tratamento</td>\n",
       "    </tr>\n",
       "    <tr>\n",
       "      <th>21</th>\n",
       "      <td>34</td>\n",
       "      <td>Terminologia de forma de pagamento</td>\n",
       "    </tr>\n",
       "    <tr>\n",
       "      <th>22</th>\n",
       "      <td>35</td>\n",
       "      <td>Terminologia de grau de participação</td>\n",
       "    </tr>\n",
       "    <tr>\n",
       "      <th>23</th>\n",
       "      <td>36</td>\n",
       "      <td>Terminologia de indicador de acidente</td>\n",
       "    </tr>\n",
       "    <tr>\n",
       "      <th>24</th>\n",
       "      <td>37</td>\n",
       "      <td>Terminologia de Indicador de débito ou crédito</td>\n",
       "    </tr>\n",
       "  </tbody>\n",
       "</table>\n",
       "</div>"
      ],
      "text/plain": [
       "   Unnamed: 0                 Tabela de Categoria do Padrão TISS\n",
       "0      Código                             Descrição da categoria\n",
       "1           1                          Componente Organizacional\n",
       "2           2                 Componente de Conteúdo e Estrutura\n",
       "3           3  Componente de Representação de Conceitos em Saúde\n",
       "4           4                          Componente de Comunicação\n",
       "5           5              Componente de Segurança e Privacidade\n",
       "6          18  Terminologia de diárias, taxas e gases medicinais\n",
       "7          19                   Terminologia de materiais e OPME\n",
       "8          20                       Terminologia de medicamentos\n",
       "9          22   Terminologia de procedimentos e eventos em saúde\n",
       "10         23             Terminologia de caráter do atendimento\n",
       "11         24  Terminologia de Classificação Brasileira de Oc...\n",
       "12         25                  Terminologia de código da despesa\n",
       "13         26              Terminologia de conselho profissional\n",
       "14         27                 Terminologia de débitos e créditos\n",
       "15         28                             Terminologia de dentes\n",
       "16         29             Terminologia de diagnóstico por imagem\n",
       "17         30  Terminologia de Escala de capacidade funcional...\n",
       "18         31              Terminologia de estadiamento do tumor\n",
       "19         32                     Terminologia de faces do dente\n",
       "20         33           Terminologia de finalidade do tratamento\n",
       "21         34                 Terminologia de forma de pagamento\n",
       "22         35               Terminologia de grau de participação\n",
       "23         36              Terminologia de indicador de acidente\n",
       "24         37     Terminologia de Indicador de débito ou crédito"
      ]
     },
     "execution_count": 11,
     "metadata": {},
     "output_type": "execute_result"
    }
   ],
   "source": [
    "read31 = read_pdf(\"padrao-tiss_componente-organizacional.pdf\",pages = '115')\n",
    "read31 = read31[0]\n",
    "read31"
   ]
  },
  {
   "cell_type": "code",
   "execution_count": 12,
   "metadata": {},
   "outputs": [
    {
     "name": "stderr",
     "output_type": "stream",
     "text": [
      "Got stderr: dez 14, 2021 7:09:30 PM org.apache.pdfbox.pdmodel.font.PDTrueTypeFont <init>\r\n",
      "ADVERTÊNCIA: Using fallback font 'Arial-BoldMT' for 'Helvetica,Bold'\r\n",
      "dez 14, 2021 7:09:32 PM org.apache.pdfbox.pdmodel.font.PDTrueTypeFont <init>\r\n",
      "ADVERTÊNCIA: Using fallback font 'Arial-BoldMT' for 'Helvetica,Bold'\r\n",
      "\n"
     ]
    },
    {
     "data": {
      "text/html": [
       "<div>\n",
       "<style scoped>\n",
       "    .dataframe tbody tr th:only-of-type {\n",
       "        vertical-align: middle;\n",
       "    }\n",
       "\n",
       "    .dataframe tbody tr th {\n",
       "        vertical-align: top;\n",
       "    }\n",
       "\n",
       "    .dataframe thead th {\n",
       "        text-align: right;\n",
       "    }\n",
       "</style>\n",
       "<table border=\"1\" class=\"dataframe\">\n",
       "  <thead>\n",
       "    <tr style=\"text-align: right;\">\n",
       "      <th></th>\n",
       "      <th>Tabela de Tipo de Solicitação</th>\n",
       "    </tr>\n",
       "  </thead>\n",
       "  <tbody>\n",
       "    <tr>\n",
       "      <th>0</th>\n",
       "      <td>Código</td>\n",
       "    </tr>\n",
       "    <tr>\n",
       "      <th>1</th>\n",
       "      <td>Descrição da categoria</td>\n",
       "    </tr>\n",
       "    <tr>\n",
       "      <th>2</th>\n",
       "      <td>1 Alteração</td>\n",
       "    </tr>\n",
       "    <tr>\n",
       "      <th>3</th>\n",
       "      <td>2 Inclusão</td>\n",
       "    </tr>\n",
       "    <tr>\n",
       "      <th>5</th>\n",
       "      <td>3 Exclusão</td>\n",
       "    </tr>\n",
       "  </tbody>\n",
       "</table>\n",
       "</div>"
      ],
      "text/plain": [
       "  Tabela de Tipo de Solicitação\n",
       "0                        Código\n",
       "1        Descrição da categoria\n",
       "2                   1 Alteração\n",
       "3                    2 Inclusão\n",
       "5                    3 Exclusão"
      ]
     },
     "execution_count": 12,
     "metadata": {},
     "output_type": "execute_result"
    }
   ],
   "source": [
    "read32 = read_pdf(\"padrao-tiss_componente-organizacional.pdf\",pages = '120')\n",
    "read32 = read32[1]\n",
    "read32 = read32.dropna(how ='any')\n",
    "read32"
   ]
  },
  {
   "cell_type": "markdown",
   "metadata": {},
   "source": [
    "## Tratando dados"
   ]
  },
  {
   "cell_type": "code",
   "execution_count": 13,
   "metadata": {},
   "outputs": [],
   "source": [
    "read30 = pd.DataFrame(read30).to_numpy()"
   ]
  },
  {
   "cell_type": "code",
   "execution_count": 14,
   "metadata": {},
   "outputs": [
    {
     "data": {
      "text/html": [
       "<div>\n",
       "<style scoped>\n",
       "    .dataframe tbody tr th:only-of-type {\n",
       "        vertical-align: middle;\n",
       "    }\n",
       "\n",
       "    .dataframe tbody tr th {\n",
       "        vertical-align: top;\n",
       "    }\n",
       "\n",
       "    .dataframe thead th {\n",
       "        text-align: right;\n",
       "    }\n",
       "</style>\n",
       "<table border=\"1\" class=\"dataframe\">\n",
       "  <thead>\n",
       "    <tr style=\"text-align: right;\">\n",
       "      <th></th>\n",
       "      <th>Descrição da categoria</th>\n",
       "    </tr>\n",
       "    <tr>\n",
       "      <th>Código</th>\n",
       "      <th></th>\n",
       "    </tr>\n",
       "  </thead>\n",
       "  <tbody>\n",
       "    <tr>\n",
       "      <th>1</th>\n",
       "      <td>Operadora</td>\n",
       "    </tr>\n",
       "    <tr>\n",
       "      <th>2</th>\n",
       "      <td>Prestador de serviço</td>\n",
       "    </tr>\n",
       "    <tr>\n",
       "      <th>3</th>\n",
       "      <td>Consumidor</td>\n",
       "    </tr>\n",
       "    <tr>\n",
       "      <th>4</th>\n",
       "      <td>Gestor</td>\n",
       "    </tr>\n",
       "    <tr>\n",
       "      <th>5</th>\n",
       "      <td>ANS</td>\n",
       "    </tr>\n",
       "  </tbody>\n",
       "</table>\n",
       "</div>"
      ],
      "text/plain": [
       "       Descrição da categoria\n",
       "Código                       \n",
       "1                   Operadora\n",
       "2        Prestador de serviço\n",
       "3                  Consumidor\n",
       "4                      Gestor\n",
       "5                         ANS"
      ]
     },
     "execution_count": 14,
     "metadata": {},
     "output_type": "execute_result"
    }
   ],
   "source": [
    "aux=[]\n",
    "data=[]\n",
    "for i in range(len(read30)):\n",
    "    aux.append(list(read30[i]))\n",
    "    data.append(aux[i][0].split(' ', 1))\n",
    "\n",
    "df = pd.DataFrame(data[1:], columns = data[0])\n",
    "df.set_index('Código', inplace=True)\n",
    "df  "
   ]
  },
  {
   "cell_type": "code",
   "execution_count": 15,
   "metadata": {},
   "outputs": [],
   "source": [
    "#salvando dados em csv\n",
    "df.to_csv('tabela1.csv')\n",
    "#zipando arquivo csv\n",
    "z.write('tabela1.csv')"
   ]
  },
  {
   "cell_type": "code",
   "execution_count": 16,
   "metadata": {},
   "outputs": [],
   "source": [
    "read31 = pd.DataFrame(read31).to_numpy()"
   ]
  },
  {
   "cell_type": "code",
   "execution_count": 17,
   "metadata": {},
   "outputs": [
    {
     "data": {
      "text/plain": [
       "array(['Código', 'Descrição da categoria'], dtype=object)"
      ]
     },
     "execution_count": 17,
     "metadata": {},
     "output_type": "execute_result"
    }
   ],
   "source": [
    "read31[0]"
   ]
  },
  {
   "cell_type": "code",
   "execution_count": 18,
   "metadata": {},
   "outputs": [
    {
     "name": "stdout",
     "output_type": "stream",
     "text": [
      "Código\n"
     ]
    }
   ],
   "source": [
    "print(read31[0][0])"
   ]
  },
  {
   "cell_type": "code",
   "execution_count": null,
   "metadata": {},
   "outputs": [],
   "source": []
  },
  {
   "cell_type": "code",
   "execution_count": 19,
   "metadata": {},
   "outputs": [
    {
     "data": {
      "text/html": [
       "<div>\n",
       "<style scoped>\n",
       "    .dataframe tbody tr th:only-of-type {\n",
       "        vertical-align: middle;\n",
       "    }\n",
       "\n",
       "    .dataframe tbody tr th {\n",
       "        vertical-align: top;\n",
       "    }\n",
       "\n",
       "    .dataframe thead th {\n",
       "        text-align: right;\n",
       "    }\n",
       "</style>\n",
       "<table border=\"1\" class=\"dataframe\">\n",
       "  <thead>\n",
       "    <tr style=\"text-align: right;\">\n",
       "      <th></th>\n",
       "      <th>Descrição da categoria</th>\n",
       "    </tr>\n",
       "    <tr>\n",
       "      <th>Código</th>\n",
       "      <th></th>\n",
       "    </tr>\n",
       "  </thead>\n",
       "  <tbody>\n",
       "    <tr>\n",
       "      <th>1</th>\n",
       "      <td>Componente Organizacional</td>\n",
       "    </tr>\n",
       "    <tr>\n",
       "      <th>2</th>\n",
       "      <td>Componente de Conteúdo e Estrutura</td>\n",
       "    </tr>\n",
       "    <tr>\n",
       "      <th>3</th>\n",
       "      <td>Componente de Representação de Conceitos em Saúde</td>\n",
       "    </tr>\n",
       "    <tr>\n",
       "      <th>4</th>\n",
       "      <td>Componente de Comunicação</td>\n",
       "    </tr>\n",
       "    <tr>\n",
       "      <th>5</th>\n",
       "      <td>Componente de Segurança e Privacidade</td>\n",
       "    </tr>\n",
       "    <tr>\n",
       "      <th>18</th>\n",
       "      <td>Terminologia de diárias, taxas e gases medicinais</td>\n",
       "    </tr>\n",
       "    <tr>\n",
       "      <th>19</th>\n",
       "      <td>Terminologia de materiais e OPME</td>\n",
       "    </tr>\n",
       "    <tr>\n",
       "      <th>20</th>\n",
       "      <td>Terminologia de medicamentos</td>\n",
       "    </tr>\n",
       "    <tr>\n",
       "      <th>22</th>\n",
       "      <td>Terminologia de procedimentos e eventos em saúde</td>\n",
       "    </tr>\n",
       "    <tr>\n",
       "      <th>23</th>\n",
       "      <td>Terminologia de caráter do atendimento</td>\n",
       "    </tr>\n",
       "    <tr>\n",
       "      <th>24</th>\n",
       "      <td>Terminologia de Classificação Brasileira de Oc...</td>\n",
       "    </tr>\n",
       "    <tr>\n",
       "      <th>25</th>\n",
       "      <td>Terminologia de código da despesa</td>\n",
       "    </tr>\n",
       "    <tr>\n",
       "      <th>26</th>\n",
       "      <td>Terminologia de conselho profissional</td>\n",
       "    </tr>\n",
       "    <tr>\n",
       "      <th>27</th>\n",
       "      <td>Terminologia de débitos e créditos</td>\n",
       "    </tr>\n",
       "    <tr>\n",
       "      <th>28</th>\n",
       "      <td>Terminologia de dentes</td>\n",
       "    </tr>\n",
       "    <tr>\n",
       "      <th>29</th>\n",
       "      <td>Terminologia de diagnóstico por imagem</td>\n",
       "    </tr>\n",
       "    <tr>\n",
       "      <th>30</th>\n",
       "      <td>Terminologia de Escala de capacidade funcional...</td>\n",
       "    </tr>\n",
       "    <tr>\n",
       "      <th>31</th>\n",
       "      <td>Terminologia de estadiamento do tumor</td>\n",
       "    </tr>\n",
       "    <tr>\n",
       "      <th>32</th>\n",
       "      <td>Terminologia de faces do dente</td>\n",
       "    </tr>\n",
       "    <tr>\n",
       "      <th>33</th>\n",
       "      <td>Terminologia de finalidade do tratamento</td>\n",
       "    </tr>\n",
       "    <tr>\n",
       "      <th>34</th>\n",
       "      <td>Terminologia de forma de pagamento</td>\n",
       "    </tr>\n",
       "    <tr>\n",
       "      <th>35</th>\n",
       "      <td>Terminologia de grau de participação</td>\n",
       "    </tr>\n",
       "    <tr>\n",
       "      <th>36</th>\n",
       "      <td>Terminologia de indicador de acidente</td>\n",
       "    </tr>\n",
       "    <tr>\n",
       "      <th>37</th>\n",
       "      <td>Terminologia de Indicador de débito ou crédito</td>\n",
       "    </tr>\n",
       "  </tbody>\n",
       "</table>\n",
       "</div>"
      ],
      "text/plain": [
       "                                   Descrição da categoria\n",
       "Código                                                   \n",
       "1                               Componente Organizacional\n",
       "2                      Componente de Conteúdo e Estrutura\n",
       "3       Componente de Representação de Conceitos em Saúde\n",
       "4                               Componente de Comunicação\n",
       "5                   Componente de Segurança e Privacidade\n",
       "18      Terminologia de diárias, taxas e gases medicinais\n",
       "19                       Terminologia de materiais e OPME\n",
       "20                           Terminologia de medicamentos\n",
       "22       Terminologia de procedimentos e eventos em saúde\n",
       "23                 Terminologia de caráter do atendimento\n",
       "24      Terminologia de Classificação Brasileira de Oc...\n",
       "25                      Terminologia de código da despesa\n",
       "26                  Terminologia de conselho profissional\n",
       "27                     Terminologia de débitos e créditos\n",
       "28                                 Terminologia de dentes\n",
       "29                 Terminologia de diagnóstico por imagem\n",
       "30      Terminologia de Escala de capacidade funcional...\n",
       "31                  Terminologia de estadiamento do tumor\n",
       "32                         Terminologia de faces do dente\n",
       "33               Terminologia de finalidade do tratamento\n",
       "34                     Terminologia de forma de pagamento\n",
       "35                   Terminologia de grau de participação\n",
       "36                  Terminologia de indicador de acidente\n",
       "37         Terminologia de Indicador de débito ou crédito"
      ]
     },
     "execution_count": 19,
     "metadata": {},
     "output_type": "execute_result"
    }
   ],
   "source": [
    "df = pd.DataFrame(read31[1:], columns= read31[0])\n",
    "df.set_index('Código', inplace=True)\n",
    "df  "
   ]
  },
  {
   "cell_type": "code",
   "execution_count": 20,
   "metadata": {},
   "outputs": [],
   "source": [
    "#salvando dados como csv\n",
    "df.to_csv('tabela2.csv')\n",
    "#zipando arquivo csv\n",
    "z.write('tabela2.csv')"
   ]
  },
  {
   "cell_type": "code",
   "execution_count": 21,
   "metadata": {},
   "outputs": [],
   "source": [
    "read32 = pd.DataFrame(read32).to_numpy()\n",
    "aux=[]\n",
    "data=[]\n",
    "j = 0\n",
    "for i in range(len(read32)):\n",
    "    aux.append(list(read32[i]))\n",
    "    data.append(aux[i][0].split(' ', 1))\n",
    "data[1] = (data[1][0]+\" \"+data[1][1])\n"
   ]
  },
  {
   "cell_type": "code",
   "execution_count": 22,
   "metadata": {},
   "outputs": [
    {
     "data": {
      "text/html": [
       "<div>\n",
       "<style scoped>\n",
       "    .dataframe tbody tr th:only-of-type {\n",
       "        vertical-align: middle;\n",
       "    }\n",
       "\n",
       "    .dataframe tbody tr th {\n",
       "        vertical-align: top;\n",
       "    }\n",
       "\n",
       "    .dataframe thead th {\n",
       "        text-align: right;\n",
       "    }\n",
       "</style>\n",
       "<table border=\"1\" class=\"dataframe\">\n",
       "  <thead>\n",
       "    <tr style=\"text-align: right;\">\n",
       "      <th></th>\n",
       "      <th>Descrição da categoria</th>\n",
       "    </tr>\n",
       "    <tr>\n",
       "      <th>Código</th>\n",
       "      <th></th>\n",
       "    </tr>\n",
       "  </thead>\n",
       "  <tbody>\n",
       "    <tr>\n",
       "      <th>1</th>\n",
       "      <td>Alteração</td>\n",
       "    </tr>\n",
       "    <tr>\n",
       "      <th>2</th>\n",
       "      <td>Inclusão</td>\n",
       "    </tr>\n",
       "    <tr>\n",
       "      <th>3</th>\n",
       "      <td>Exclusão</td>\n",
       "    </tr>\n",
       "  </tbody>\n",
       "</table>\n",
       "</div>"
      ],
      "text/plain": [
       "       Descrição da categoria\n",
       "Código                       \n",
       "1                   Alteração\n",
       "2                    Inclusão\n",
       "3                    Exclusão"
      ]
     },
     "execution_count": 22,
     "metadata": {},
     "output_type": "execute_result"
    }
   ],
   "source": [
    "df = pd.DataFrame(data[2:], columns= [data[0][0], data[1]])\n",
    "df.set_index('Código', inplace=True)\n",
    "\n",
    "df  "
   ]
  },
  {
   "cell_type": "code",
   "execution_count": 23,
   "metadata": {},
   "outputs": [],
   "source": [
    "#salvando dados como csv\n",
    "df.to_csv('tabela3.csv')\n",
    "#zipando arquivo csv\n",
    "z.write('tabela3.csv')"
   ]
  },
  {
   "cell_type": "code",
   "execution_count": 24,
   "metadata": {},
   "outputs": [],
   "source": [
    "#fechando arquivo\n",
    "z.close()"
   ]
  }
 ],
 "metadata": {
  "kernelspec": {
   "display_name": "Python 3",
   "language": "python",
   "name": "python3"
  },
  "language_info": {
   "codemirror_mode": {
    "name": "ipython",
    "version": 3
   },
   "file_extension": ".py",
   "mimetype": "text/x-python",
   "name": "python",
   "nbconvert_exporter": "python",
   "pygments_lexer": "ipython3",
   "version": "3.8.3"
  }
 },
 "nbformat": 4,
 "nbformat_minor": 4
}
